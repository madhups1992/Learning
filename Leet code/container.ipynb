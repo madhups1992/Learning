{
 "cells": [
  {
   "cell_type": "markdown",
   "metadata": {},
   "source": [
    "https://leetcode.com/problems/container-with-most-water/\n",
    "\n",
    "Input: height = [1,8,6,2,5,4,8,3,7]\n",
    "\n",
    "Output: 49\n",
    "\n",
    "Explanation: The above vertical lines are represented by array [1,8,6,2,5,4,8,3,7]. \n",
    "\n",
    "In this case, the max area of water (blue section) the container can contain is 49.\n"
   ]
  },
  {
   "cell_type": "code",
   "execution_count": 25,
   "metadata": {},
   "outputs": [
    {
     "name": "stdout",
     "output_type": "stream",
     "text": [
      "1 8 0\n",
      "L:h 1 1\n",
      "L:h 1 8\n",
      "7 7 8\n",
      "L:h 7 8\n",
      "L:h 7 8\n",
      "3 6 49\n",
      "L:h 3 8\n",
      "L:h 3 8\n",
      "8 5 49\n",
      "L:h 8 8\n",
      "L:h 8 6\n",
      "4 3 49\n",
      "L:h 4 6\n",
      "L:h 4 6\n",
      "5 2 49\n",
      "L:h 5 6\n",
      "L:h 5 6\n",
      "2 1 49\n",
      "L:h 2 6\n",
      "L:h 2 6\n"
     ]
    }
   ],
   "source": [
    "height = [1,8,6,2,5,4,8,3,7]\n",
    "\n",
    "l=0\n",
    "r=len(height)-1\n",
    "volume=0\n",
    "while l<r:\n",
    "    length = min(height[l],height[r])\n",
    "    width = r-l\n",
    "    volume = max(volume,length*width)\n",
    "    l=l+( length==height[l])# height == smaller wall\n",
    "    r=r-(length == height[r])\n",
    "    \n"
   ]
  },
  {
   "cell_type": "code",
   "execution_count": 22,
   "metadata": {},
   "outputs": [],
   "source": [
    "def maxArea( height):\n",
    "        res, l, r = 0, 0, len(height) - 1\n",
    "        while l < r:\n",
    "            h = min(height[l], height[r])\n",
    "            res, l, r = max(res,  h * (r - l)), l + (height[l] == h), r - (height[r] == h)\n",
    "        return res"
   ]
  },
  {
   "cell_type": "code",
   "execution_count": 23,
   "metadata": {},
   "outputs": [
    {
     "data": {
      "text/plain": [
       "49"
      ]
     },
     "execution_count": 23,
     "metadata": {},
     "output_type": "execute_result"
    }
   ],
   "source": [
    "maxArea( height)"
   ]
  },
  {
   "cell_type": "code",
   "execution_count": null,
   "metadata": {},
   "outputs": [],
   "source": []
  }
 ],
 "metadata": {
  "kernelspec": {
   "display_name": "Python 3",
   "language": "python",
   "name": "python3"
  },
  "language_info": {
   "codemirror_mode": {
    "name": "ipython",
    "version": 3
   },
   "file_extension": ".py",
   "mimetype": "text/x-python",
   "name": "python",
   "nbconvert_exporter": "python",
   "pygments_lexer": "ipython3",
   "version": "3.8.3"
  }
 },
 "nbformat": 4,
 "nbformat_minor": 4
}
