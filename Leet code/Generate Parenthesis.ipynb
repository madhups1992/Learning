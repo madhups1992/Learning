{
 "cells": [
  {
   "cell_type": "markdown",
   "metadata": {},
   "source": [
    "Given n pairs of parentheses, write a function to generate all combinations of well-formed parentheses."
   ]
  },
  {
   "attachments": {
    "image.png": {
     "image/png": "[encoded data removed]"
    }
   },
   "cell_type": "markdown",
   "metadata": {},
   "source": [
    "![image.png](attachment:image.png)"
   ]
  },
  {
   "cell_type": "code",
   "execution_count": 54,
   "metadata": {},
   "outputs": [],
   "source": [
    " def generateParenthesis(n):\n",
    "        \"\"\"\n",
    "        :type n: int\n",
    "        :rtype: List[str]\n",
    "        \"\"\"\n",
    "        ans = []\n",
    "        \n",
    "        def backtrack(S=[],left=0,right=0):\n",
    "            if(len(S)==2*n):\n",
    "                ans.append(''.join(S))\n",
    "                \n",
    "            if(left<n):\n",
    "                S.append(\"(\")\n",
    "                backtrack(S,left+1,right)\n",
    "                S.pop()\n",
    "            if(right<left):\n",
    "                S.append(\")\")\n",
    "                backtrack(S,left,right+1)\n",
    "                S.pop()\n",
    "        \n",
    "        backtrack()\n",
    "        return ans\n",
    "                \n",
    "        \n",
    "        \n",
    "        "
   ]
  },
  {
   "cell_type": "code",
   "execution_count": 57,
   "metadata": {},
   "outputs": [
    {
     "data": {
      "text/plain": [
       "['(((())))',\n",
       " '((()()))',\n",
       " '((())())',\n",
       " '((()))()',\n",
       " '(()(()))',\n",
       " '(()()())',\n",
       " '(()())()',\n",
       " '(())(())',\n",
       " '(())()()',\n",
       " '()((()))',\n",
       " '()(()())',\n",
       " '()(())()',\n",
       " '()()(())',\n",
       " '()()()()']"
      ]
     },
     "execution_count": 57,
     "metadata": {},
     "output_type": "execute_result"
    }
   ],
   "source": [
    "generateParenthesis(n=4)"
   ]
  },
  {
   "cell_type": "code",
   "execution_count": 2,
   "metadata": {},
   "outputs": [
    {
     "data": {
      "text/plain": [
       "'()'"
      ]
     },
     "execution_count": 2,
     "metadata": {},
     "output_type": "execute_result"
    }
   ],
   "source": [
    "l='('\n",
    "r=')'\n",
    "result=[]\n",
    "temp_s = ''\n",
    "for i in range(2):\n",
    "    "
   ]
  },
  {
   "cell_type": "code",
   "execution_count": 44,
   "metadata": {},
   "outputs": [],
   "source": [
    "class Solution:\n",
    "    def generateParenthesis(self, n: int) :\n",
    "        ans = []\n",
    "        def backtrack(S = [], left = 0, right = 0):\n",
    "            if len(S) == 2 * n:\n",
    "                ans.append(\"\".join(S))\n",
    "                print('ANS',ans)\n",
    "            if left < n:\n",
    "                \n",
    "                S.append(\"(\")\n",
    "#                 print(S,left,'L')\n",
    "                backtrack(S, left+1, right)\n",
    "                S.pop()\n",
    "#                 print('poped')\n",
    "#                 print(S,left,'L')\n",
    "#                 print('--')\n",
    "            if right < left:\n",
    "                S.append(\")\")\n",
    "#                 print(S,right,'R')\n",
    "                backtrack(S, left, right+1)\n",
    "                S.pop()\n",
    "#                 print('Rpoped')\n",
    "#                 print(S)\n",
    "#                 print('--')\n",
    "        backtrack()\n",
    "        return ans"
   ]
  },
  {
   "cell_type": "code",
   "execution_count": 45,
   "metadata": {},
   "outputs": [
    {
     "name": "stdout",
     "output_type": "stream",
     "text": [
      "ANS ['((()))']\n",
      "ANS ['((()))', '(()())']\n",
      "ANS ['((()))', '(()())', '(())()']\n",
      "ANS ['((()))', '(()())', '(())()', '()(())']\n",
      "ANS ['((()))', '(()())', '(())()', '()(())', '()()()']\n"
     ]
    },
    {
     "data": {
      "text/plain": [
       "['((()))', '(()())', '(())()', '()(())', '()()()']"
      ]
     },
     "execution_count": 45,
     "metadata": {},
     "output_type": "execute_result"
    }
   ],
   "source": [
    "s = Solution()\n",
    "s.generateParenthesis(n=3)"
   ]
  },
  {
   "cell_type": "code",
   "execution_count": null,
   "metadata": {},
   "outputs": [],
   "source": [
    "## n=2 : (()),()"
   ]
  },
  {
   "cell_type": "code",
   "execution_count": null,
   "metadata": {},
   "outputs": [],
   "source": [
    "## n =1 : l+r\n",
    "## n =2 : (l+r)+(l+r),(l+(l+r)+r)\n",
    "## n=3 : (l+r)+(l+r)+(l+r), (l+r)(l+(l+r)+r), (l+(l+r)+r)(l+r), (l+(l+(l+r)+r)+r), (l+(l+r)+(l+r)+r)"
   ]
  }
 ],
 "metadata": {
  "kernelspec": {
   "display_name": "Python 3",
   "language": "python",
   "name": "python3"
  },
  "language_info": {
   "codemirror_mode": {
    "name": "ipython",
    "version": 3
   },
   "file_extension": ".py",
   "mimetype": "text/x-python",
   "name": "python",
   "nbconvert_exporter": "python",
   "pygments_lexer": "ipython3",
   "version": "3.8.3"
  }
 },
 "nbformat": 4,
 "nbformat_minor": 4
}
