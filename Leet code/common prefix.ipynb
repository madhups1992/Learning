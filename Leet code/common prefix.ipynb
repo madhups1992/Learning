{
 "cells": [
  {
   "cell_type": "markdown",
   "metadata": {},
   "source": [
    "Write a function to find the longest common prefix string amongst an array of strings.\n",
    "\n",
    "If there is no common prefix, return an empty string \"\".\n",
    "\n",
    "https://leetcode.com/problems/longest-common-prefix/"
   ]
  },
  {
   "cell_type": "code",
   "execution_count": null,
   "metadata": {},
   "outputs": [],
   "source": []
  },
  {
   "cell_type": "code",
   "execution_count": 24,
   "metadata": {},
   "outputs": [],
   "source": [
    "def longestCommonPrefix( strs):\n",
    "    result = ''\n",
    "    for i, letter_group in enumerate(zip(*strs)):\n",
    "        if(len(set(letter_group))==1):\n",
    "            print(letter_group)\n",
    "            result+=letter_group[0]\n",
    "        else:\n",
    "            break;\n",
    "    return(result)\n",
    "    \n",
    "    "
   ]
  },
  {
   "cell_type": "code",
   "execution_count": 27,
   "metadata": {},
   "outputs": [
    {
     "data": {
      "text/plain": [
       "''"
      ]
     },
     "execution_count": 27,
     "metadata": {},
     "output_type": "execute_result"
    }
   ],
   "source": [
    "strs=['knfk','akfjh']\n",
    "longestCommonPrefix( strs)"
   ]
  },
  {
   "cell_type": "code",
   "execution_count": 26,
   "metadata": {},
   "outputs": [
    {
     "name": "stdout",
     "output_type": "stream",
     "text": [
      "0 ('k',)\n",
      "knfkakfjh\n",
      "1 ('n',)\n",
      "knfkakfjh\n",
      "2 ('f',)\n",
      "knfkakfjh\n",
      "3 ('k',)\n",
      "knfkakfjh\n",
      "4 ('a',)\n",
      "knfkakfjh\n",
      "5 ('k',)\n",
      "knfkakfjh\n",
      "6 ('f',)\n",
      "knfkakfjh\n",
      "7 ('j',)\n",
      "knfkakfjh\n",
      "8 ('h',)\n",
      "knfkakfjh\n"
     ]
    }
   ],
   "source": [
    "strs=['flower','florida','flood00909a']\n",
    "strs=['knfk''akfjh']\n",
    "if not strs:\n",
    "    print(\"\")\n",
    "\n",
    "for i, letter_group in enumerate(zip(*strs)):\n",
    "    print(i,letter_group)\n",
    "    if len(set(letter_group)) > 1:\n",
    "        print( strs[0][:i])\n",
    "        break;\n",
    "    else:\n",
    "        print(min(strs))"
   ]
  },
  {
   "cell_type": "code",
   "execution_count": null,
   "metadata": {},
   "outputs": [],
   "source": []
  },
  {
   "cell_type": "code",
   "execution_count": null,
   "metadata": {},
   "outputs": [],
   "source": []
  }
 ],
 "metadata": {
  "kernelspec": {
   "display_name": "Python 3",
   "language": "python",
   "name": "python3"
  },
  "language_info": {
   "codemirror_mode": {
    "name": "ipython",
    "version": 3
   },
   "file_extension": ".py",
   "mimetype": "text/x-python",
   "name": "python",
   "nbconvert_exporter": "python",
   "pygments_lexer": "ipython3",
   "version": "3.8.3"
  }
 },
 "nbformat": 4,
 "nbformat_minor": 4
}
