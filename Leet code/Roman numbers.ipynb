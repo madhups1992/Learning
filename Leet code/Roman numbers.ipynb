{
 "cells": [
  {
   "cell_type": "raw",
   "metadata": {},
   "source": [
    "Roman numerals are represented by seven different symbols: I, V, X, L, C, D and M\n",
    "\n",
    "Symbol       Value\n",
    "I             1\n",
    "V             5\n",
    "X             10\n",
    "L             50\n",
    "C             100\n",
    "D             500\n",
    "M             1000\n",
    "\n",
    "For example, 2 is written as II in Roman numeral, just two one's added together. 12 is written as XII, which is simply X + II. The number 27 is written as XXVII, which is XX + V + II.\n",
    "\n",
    "Roman numerals are usually written largest to smallest from left to right. However, the numeral for four is not IIII. Instead, the number four is written as IV. Because the one is before the five we subtract it making four. The same principle applies to the number nine, which is written as IX. There are six instances where subtraction is used:\n",
    "\n",
    "I can be placed before V (5) and X (10) to make 4 and 9. \n",
    "X can be placed before L (50) and C (100) to make 40 and 90. \n",
    "C can be placed before D (500) and M (1000) to make 400 and 900.\n",
    "Given an integer, convert it to a roman numeral.\n"
   ]
  },
  {
   "cell_type": "code",
   "execution_count": 1,
   "metadata": {},
   "outputs": [
    {
     "data": {
      "text/plain": [
       "{1: 'I', 5: 'V', 10: 'X', 50: 'L', 100: 'C', 500: 'D', 1000: 'M'}"
      ]
     },
     "execution_count": 1,
     "metadata": {},
     "output_type": "execute_result"
    }
   ],
   "source": [
    "dict({1:'I',\n",
    "     5:'V',\n",
    "     10:'X',\n",
    "      50:'L',\n",
    "      100:'C',\n",
    "      500:'D',\n",
    "      1000:'M'\n",
    "     })\n",
    "    "
   ]
  },
  {
   "cell_type": "code",
   "execution_count": 8,
   "metadata": {},
   "outputs": [],
   "source": [
    "def intToRoman(num: int) -> str:\n",
    "    d = {1000: 'M', 900: 'CM', 500: 'D', 400: 'CD', 100: 'C', 90: 'XC', 50: 'L', 40: 'XL', 10: 'X', 9: 'IX', 5: 'V', 4: 'IV', 1: 'I'} \n",
    "\n",
    "    res = \"\"\n",
    "\n",
    "    for i in d:\n",
    "        print(i,num//i)\n",
    "        res += (num//i) * d[i]\n",
    "        num %= i\n",
    "\n",
    "    return res"
   ]
  },
  {
   "cell_type": "code",
   "execution_count": 10,
   "metadata": {},
   "outputs": [
    {
     "name": "stdout",
     "output_type": "stream",
     "text": [
      "1000 0\n",
      "900 0\n",
      "500 0\n",
      "400 0\n",
      "100 1\n",
      "90 0\n",
      "50 0\n",
      "40 0\n",
      "10 2\n",
      "9 0\n",
      "5 1\n",
      "4 0\n",
      "1 2\n"
     ]
    },
    {
     "data": {
      "text/plain": [
       "'CXXVII'"
      ]
     },
     "execution_count": 10,
     "metadata": {},
     "output_type": "execute_result"
    }
   ],
   "source": [
    "intToRoman(127)"
   ]
  },
  {
   "cell_type": "code",
   "execution_count": 20,
   "metadata": {},
   "outputs": [],
   "source": [
    "d = {1000: 'M',\n",
    "     900: 'CM', \n",
    "     500: 'D', \n",
    "     400: 'CD', \n",
    "     100: 'C', \n",
    "     90: 'XC', \n",
    "     50: 'L', \n",
    "     40: 'XL', \n",
    "     10: 'X', \n",
    "     9: 'IX', \n",
    "     5: 'V', \n",
    "     4: 'IV', \n",
    "     1: 'I'} \n",
    "\n",
    "def intToRoman(num: int) -> str:\n",
    "    \n",
    "    d = {1000: 'M',\n",
    "     900: 'CM', \n",
    "     500: 'D', \n",
    "     400: 'CD', \n",
    "     100: 'C', \n",
    "     90: 'XC', \n",
    "     50: 'L', \n",
    "     40: 'XL', \n",
    "     10: 'X', \n",
    "     9: 'IX', \n",
    "     5: 'V', \n",
    "     4: 'IV', \n",
    "     1: 'I'} \n",
    "    roman=''\n",
    "    for i in d:\n",
    "        quo ,num = divmod(num,i)\n",
    "        roman+=d[i]*quo\n",
    "        \n",
    "    return(roman)\n",
    "        \n",
    "\n"
   ]
  },
  {
   "cell_type": "code",
   "execution_count": 19,
   "metadata": {},
   "outputs": [
    {
     "data": {
      "text/plain": [
       "'IV'"
      ]
     },
     "execution_count": 19,
     "metadata": {},
     "output_type": "execute_result"
    }
   ],
   "source": [
    "intToRoma(4)"
   ]
  },
  {
   "cell_type": "code",
   "execution_count": 31,
   "metadata": {},
   "outputs": [],
   "source": [
    "integer, roman = list(zip(*list(d.items())))"
   ]
  },
  {
   "cell_type": "code",
   "execution_count": 33,
   "metadata": {},
   "outputs": [
    {
     "name": "stdout",
     "output_type": "stream",
     "text": [
      "[1000, 900, 500, 400, 100, 90, 50, 40, 10, 9, 5, 4, 1]\n",
      "['M', 'CM', 'D', 'CD', 'C', 'XC', 'L', 'XL', 'X', 'IX', 'V', 'IV', 'I']\n"
     ]
    }
   ],
   "source": [
    "print(list(integer))\n",
    "print(list(roman))"
   ]
  },
  {
   "cell_type": "code",
   "execution_count": 34,
   "metadata": {},
   "outputs": [],
   "source": [
    "\n",
    "def intToRoman( num):\n",
    "    \"\"\"\n",
    "    :type num: int\n",
    "    :rtype: str\n",
    "    \"\"\"\n",
    "    integer = [1000, 900, 500, 400, 100, 90, 50, 40, 10, 9, 5, 4, 1]\n",
    "    roman = ['M', 'CM', 'D', 'CD', 'C', 'XC', 'L', 'XL', 'X', 'IX', 'V', 'IV', 'I']\n",
    "    result=''\n",
    "    for i in range(len(integer)):\n",
    "        quo, num = divmod(num,integer[i])\n",
    "        result+=roman[i]*quo\n",
    "    return(result)\n"
   ]
  },
  {
   "cell_type": "code",
   "execution_count": 83,
   "metadata": {},
   "outputs": [
    {
     "name": "stdout",
     "output_type": "stream",
     "text": [
      "0 1000\n",
      "100 1000\n",
      "10 100\n",
      "1 5\n",
      "-1883\n"
     ]
    }
   ],
   "source": [
    "def RomanToInt(text):\n",
    "    \"\"\"\n",
    "    :type num: int\n",
    "    :rtype: str\n",
    "    \"\"\"\n",
    "#     integer = [1000, 500, 100,  50, 10, 5, 1]\n",
    "#     roman = ['M', 'D', 'C', 'L',  'X', 'V', 'I']\n",
    "    d = {'M': 1000, 'D': 500, 'C': 100, 'L': 50, 'X': 10, 'V': 5, 'I': 1}\n",
    "    prev,result=0,0\n",
    "    for t in reversed(text):\n",
    "        now = d[t]\n",
    "        if(prev>now):\n",
    "            print(prev,now)\n",
    "            result-=now\n",
    "            prev=now\n",
    "        else:\n",
    "            result+= now\n",
    "            prev=now\n",
    "    print(result)\n",
    "RomanToInt('MCMXCIV')\n"
   ]
  },
  {
   "cell_type": "code",
   "execution_count": 38,
   "metadata": {},
   "outputs": [
    {
     "data": {
      "text/plain": [
       "[1, 5, 10, 50, 100, 500, 1000]"
      ]
     },
     "execution_count": 38,
     "metadata": {},
     "output_type": "execute_result"
    }
   ],
   "source": [
    "integer = [1000, 500, 100,  50, 10, 5, 1]\n",
    "roman = ['M', 'D', 'C', 'L',  'X', 'V', 'I']\n",
    "integer[::-1]"
   ]
  },
  {
   "cell_type": "code",
   "execution_count": 40,
   "metadata": {},
   "outputs": [
    {
     "data": {
      "text/plain": [
       "{'M': 1000, 'D': 500, 'C': 100, 'L': 50, 'X': 10, 'V': 5, 'I': 1}"
      ]
     },
     "execution_count": 40,
     "metadata": {},
     "output_type": "execute_result"
    }
   ],
   "source": [
    "dict(zip(roman,integer))"
   ]
  },
  {
   "cell_type": "code",
   "execution_count": 57,
   "metadata": {},
   "outputs": [
    {
     "name": "stdout",
     "output_type": "stream",
     "text": [
      "25\n"
     ]
    }
   ],
   "source": [
    "RomanToInt('XXIV')"
   ]
  },
  {
   "cell_type": "code",
   "execution_count": null,
   "metadata": {},
   "outputs": [],
   "source": []
  }
 ],
 "metadata": {
  "kernelspec": {
   "display_name": "Python 3",
   "language": "python",
   "name": "python3"
  },
  "language_info": {
   "codemirror_mode": {
    "name": "ipython",
    "version": 3
   },
   "file_extension": ".py",
   "mimetype": "text/x-python",
   "name": "python",
   "nbconvert_exporter": "python",
   "pygments_lexer": "ipython3",
   "version": "3.8.3"
  }
 },
 "nbformat": 4,
 "nbformat_minor": 4
}
