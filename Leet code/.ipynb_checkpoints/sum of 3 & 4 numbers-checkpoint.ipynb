{
 "cells": [
  {
   "cell_type": "raw",
   "metadata": {},
   "source": [
    "Given an integer array nums, return all the triplets [nums[i], nums[j], nums[k]] such that i != j, i != k, and j != k, and nums[i] + nums[j] + nums[k] == 0.\n",
    "\n",
    "Notice that the solution set must not contain duplicate triplets.\n",
    "\n",
    "\n",
    "Input: nums = [-1,0,1,2,-1,-4]\n",
    "Output: [[-1,-1,2],[-1,0,1]]\n",
    "Example 2:\n",
    "\n",
    "Input: nums = []\n",
    "Output: []\n",
    "Example 3:\n",
    "\n",
    "Input: nums = [0]\n",
    "Output: []\n",
    "https://leetcode.com/problems/3sum/\n"
   ]
  },
  {
   "cell_type": "code",
   "execution_count": null,
   "metadata": {},
   "outputs": [],
   "source": []
  },
  {
   "cell_type": "code",
   "execution_count": 10,
   "metadata": {},
   "outputs": [],
   "source": [
    "nums = [-1,0,1,2,-1,-4]\n"
   ]
  },
  {
   "cell_type": "code",
   "execution_count": 2,
   "metadata": {},
   "outputs": [
    {
     "data": {
      "text/plain": [
       "[-2, -1, 0, 1, 2, 3]"
      ]
     },
     "execution_count": 2,
     "metadata": {},
     "output_type": "execute_result"
    }
   ],
   "source": [
    "nums = [3,0,-2,-1,1,2]\n",
    "output = [[-2,-1,3],[-2,0,2],[-1,0,1]]\n",
    "nums.sort()\n",
    "nums"
   ]
  },
  {
   "cell_type": "code",
   "execution_count": 11,
   "metadata": {},
   "outputs": [],
   "source": [
    "nums = [-1,0,1,2,-1,-4,-2,-3,3,0,4]"
   ]
  },
  {
   "cell_type": "code",
   "execution_count": 15,
   "metadata": {},
   "outputs": [
    {
     "data": {
      "text/plain": [
       "[(-2, -1, -1), (-1, -1, 0), (-4, -3, -1), (-3, -2, -1)]"
      ]
     },
     "execution_count": 15,
     "metadata": {},
     "output_type": "execute_result"
    }
   ],
   "source": [
    "result=[]\n",
    "nums.sort()\n",
    "if(len(nums)<=2):\n",
    "    print([])\n",
    "for i,val_1st in enumerate(nums):\n",
    "    st,end=i+1,length-1\n",
    "    while(st<end):\n",
    "        temp_list = (val_1st,nums[st],nums[end])\n",
    "        \n",
    "        sum_2nos=nums[st]+nums[end]\n",
    "        if(val_1st== sum_2nos):\n",
    "            result+=[temp_list]\n",
    "            st+=1\n",
    "            end-=1\n",
    "        elif(sum_2nos<val_1st):\n",
    "            st+=1\n",
    "        else:\n",
    "            end-=1\n",
    "            \n",
    "list(set(result))"
   ]
  },
  {
   "cell_type": "code",
   "execution_count": 26,
   "metadata": {},
   "outputs": [],
   "source": [
    "nums=[-1,0,1,2,-1,-4]"
   ]
  },
  {
   "cell_type": "code",
   "execution_count": 28,
   "metadata": {},
   "outputs": [
    {
     "name": "stdout",
     "output_type": "stream",
     "text": [
      "[[-1, 0, 1], [-1, -1, 2]]\n"
     ]
    }
   ],
   "source": [
    "result = []\n",
    "n,p,z = [],[],[]\n",
    "for num in nums:\n",
    "    if num==0:\n",
    "        z.append(num)\n",
    "    elif num<0:\n",
    "        n.append(num)\n",
    "    elif num>0:\n",
    "        p.append(num)\n",
    "        \n",
    "N=set(n)\n",
    "P=set(p)\n",
    "\n",
    "# Case 1: if there are 3 or more zeros\n",
    "if len(z)>3:\n",
    "    result.append([0,0,0])\n",
    "\n",
    "# Case 2: if 0 and have same +ve, -ve (-1, 0, 1)\n",
    "if z:\n",
    "    for i in N:\n",
    "        if(-i in P):\n",
    "            result.append([i,0,-i])\n",
    "\n",
    "# Case 3: for all pairs of +ve numbers checking to see complement exist\n",
    "\n",
    "for i in range(len(p)):\n",
    "    for j in range(i+1,len(p)):\n",
    "        target =-( p[i]+p[j])\n",
    "        if(target in N):\n",
    "            result.append([p[i],p[j],target])\n",
    "\n",
    "# Case 4: for all pairs of -ve numbers checking to see complement exist\n",
    "\n",
    "for i in range(len(n)):\n",
    "    for j in range(i+1,len(n)):\n",
    "        target = -(n[i]+n[j])\n",
    "        if(target in P):\n",
    "            result.append([n[i],n[j],target])\n",
    "            \n",
    "print(result)\n",
    "            \n",
    "        \n",
    "    \n",
    "\n",
    "\n",
    "\n",
    "\n"
   ]
  },
  {
   "cell_type": "code",
   "execution_count": 18,
   "metadata": {},
   "outputs": [],
   "source": [
    "\n",
    "def threeSum(nums):\n",
    "    \"\"\"\n",
    "    :type nums: List[int]\n",
    "    :rtype: List[List[int]]\n",
    "    \"\"\"\n",
    "    res = set()\n",
    "\n",
    "    #1. Split nums into three lists: negative numbers, positive numbers, and zeros\n",
    "    n, p, z = [], [], []\n",
    "    for num in nums:\n",
    "        if num > 0:\n",
    "            p.append(num)\n",
    "        elif num < 0: \n",
    "            n.append(num)\n",
    "        else:\n",
    "            z.append(num)\n",
    "\n",
    "    #2. Create a separate set for negatives and positives for O(1) look-up times\n",
    "    N, P = set(n), set(p)\n",
    "\n",
    "    #3. If there is at least 1 zero in the list, add all cases where -num exists in N and num exists in P\n",
    "    #   i.e. (-3, 0, 3) = 0\n",
    "    if z:\n",
    "        for num in P:\n",
    "            if -1*num in N:\n",
    "                res.add((-1*num, 0, num))\n",
    "\n",
    "    #3. If there are at least 3 zeros in the list then also include (0, 0, 0) = 0\n",
    "    if len(z) >= 3:\n",
    "        res.add((0,0,0))\n",
    "\n",
    "    #4. For all pairs of negative numbers (-3, -1), check to see if their complement (4)\n",
    "    #   exists in the positive number set\n",
    "    for i in range(len(n)):\n",
    "        for j in range(i+1,len(n)):\n",
    "            target = -1*(n[i]+n[j])\n",
    "            if target in P:\n",
    "                res.add(tuple(sorted([n[i],n[j],target])))\n",
    "\n",
    "    #5. For all pairs of positive numbers (1, 1), check to see if their complement (-2)\n",
    "    #   exists in the negative number set\n",
    "    for i in range(len(p)):\n",
    "        for j in range(i+1,len(p)):\n",
    "            target = -1*(p[i]+p[j])\n",
    "            if target in N:\n",
    "                res.add(tuple(sorted([p[i],p[j],target])))\n",
    "\n",
    "    return res\n"
   ]
  },
  {
   "cell_type": "code",
   "execution_count": 20,
   "metadata": {},
   "outputs": [],
   "source": [
    "## tree based\n",
    "def threeSum( nums,target):\n",
    "    #nums : list(int)\n",
    "        \n",
    "    nums.sort()\n",
    "    res = []\n",
    "    print(nums)\n",
    "    li= [i for i in range(len(nums) -2)]\n",
    "\n",
    "    for i in range(len(nums) -2): #1\n",
    "        print(nums[i],nums[i-1])\n",
    "        if i > 0 and nums[i] == nums[i-1]: #2\n",
    "            continue\n",
    "        left = i + 1 #3\n",
    "        right = len(nums) - 1 #4\n",
    "\n",
    "        while left < right:  \n",
    "            temp = nums[i] + nums[left] + nums[right]-target\n",
    "\n",
    "            if temp < 0:\n",
    "                right -= 1\n",
    "\n",
    "            elif temp > 0:\n",
    "                left += 1\n",
    "\n",
    "            else:\n",
    "                res.append([nums[i], nums[left], nums[right]]) #5\n",
    "                while left < right and nums[left] == nums[left + 1]: #6\n",
    "                    left += 1\n",
    "                while left < right and nums[right] == nums[right-1]:#7\n",
    "                    right -= 1    #8\n",
    "\n",
    "                right -= 1 #9 \n",
    "                left += 1 #10\n",
    "    return(res)"
   ]
  },
  {
   "cell_type": "code",
   "execution_count": null,
   "metadata": {},
   "outputs": [],
   "source": [
    "a+b+c=t\n",
    "a+b = t-c\n",
    "t-c-b=a\n",
    "\n",
    "## four sum\n",
    "a+b+c+d = t\n",
    "a+b+c = t-d"
   ]
  },
  {
   "cell_type": "code",
   "execution_count": 47,
   "metadata": {},
   "outputs": [],
   "source": [
    "def threeSum( nums,target):\n",
    "    nums.sort()\n",
    "    res=[]\n",
    "    for i in range(len(nums)-1):\n",
    "        \n",
    "        l=i+1;r=len(nums)-1\n",
    "        ct = target - nums[i]\n",
    "        if i == 0 or nums[i] != nums[i-1]:\n",
    "            while l<r:\n",
    "                s=nums[r]+nums[l]\n",
    "                if(s<ct):\n",
    "                    l+=1\n",
    "                elif(s>ct):\n",
    "                    r-=1\n",
    "                elif(s==ct):\n",
    "                    res.append((nums[i],nums[r],nums[l]))\n",
    "                    while(l<r and nums[l]==nums[l+1]):\n",
    "                        l+=1\n",
    "                    while(l<r and nums[r]==nums[r-1]):\n",
    "                        r-=1\n",
    "                    l+=1\n",
    "                    r-=1\n",
    "                \n",
    "    return(res)\n",
    "                \n",
    "    \n",
    "    "
   ]
  },
  {
   "cell_type": "code",
   "execution_count": 54,
   "metadata": {},
   "outputs": [],
   "source": [
    "def threeSum( nums,target):\n",
    "    res=[]\n",
    "    for i in range(len(nums)-1):\n",
    "        \n",
    "        l=i+1;r=len(nums)-1\n",
    "        ct = target - nums[i]\n",
    "        if i == 0 or nums[i] != nums[i-1]:\n",
    "            while l<r:\n",
    "                s=nums[r]+nums[l]\n",
    "                if(s<ct):\n",
    "                    l+=1\n",
    "                elif(s>ct):\n",
    "                    r-=1\n",
    "                elif(s==ct):\n",
    "                    res.append([nums[i],nums[r],nums[l]])\n",
    "                    while(l<r and nums[l]==nums[l+1]):\n",
    "                        l+=1\n",
    "                    while(l<r and nums[r]==nums[r-1]):\n",
    "                        r-=1\n",
    "                    l+=1\n",
    "                    r-=1\n",
    "                \n",
    "    return(res)\n",
    "\n",
    "def fourSum(nums,target):\n",
    "    nums.sort()\n",
    "    res = []\n",
    "    for i in range(len(nums)-1):\n",
    "        threeResult = threeSum(nums[i+1:],target-nums[i])\n",
    "        for item in threeResult:\n",
    "            res.append([nums[i]]+item)\n",
    "    return res\n",
    "            \n",
    "        "
   ]
  },
  {
   "cell_type": "code",
   "execution_count": 55,
   "metadata": {},
   "outputs": [
    {
     "data": {
      "text/plain": [
       "[[-2, -1, 2, 1], [-2, 0, 2, 0], [-1, 0, 1, 0]]"
      ]
     },
     "execution_count": 55,
     "metadata": {},
     "output_type": "execute_result"
    }
   ],
   "source": [
    "fourSum([1,0,-1,0,-2,2],0)"
   ]
  },
  {
   "cell_type": "code",
   "execution_count": 49,
   "metadata": {},
   "outputs": [
    {
     "data": {
      "text/plain": [
       "[(-1, 2, -1), (-1, 1, 0)]"
      ]
     },
     "execution_count": 49,
     "metadata": {},
     "output_type": "execute_result"
    }
   ],
   "source": [
    "threeSum([-1,0,1,2,-1,-4],0)\n",
    "# threeSum([2,2,2,2,2],6)"
   ]
  },
  {
   "cell_type": "code",
   "execution_count": 19,
   "metadata": {},
   "outputs": [
    {
     "ename": "SyntaxError",
     "evalue": "cannot assign to operator (<ipython-input-19-2c92230b5969>, line 2)",
     "output_type": "error",
     "traceback": [
      "\u001b[1;36m  File \u001b[1;32m\"<ipython-input-19-2c92230b5969>\"\u001b[1;36m, line \u001b[1;32m2\u001b[0m\n\u001b[1;33m    -1+2=1<4\u001b[0m\n\u001b[1;37m    ^\u001b[0m\n\u001b[1;31mSyntaxError\u001b[0m\u001b[1;31m:\u001b[0m cannot assign to operator\n"
     ]
    }
   ],
   "source": [
    "[4,1,1,0,-1,-2]\n",
    "-1+2=1<4\n",
    "-1+2=1<4\n",
    "-1+2=1\n",
    "(-1+2+1)\n",
    "0+1=1"
   ]
  },
  {
   "cell_type": "code",
   "execution_count": 32,
   "metadata": {},
   "outputs": [
    {
     "data": {
      "text/plain": [
       "43"
      ]
     },
     "execution_count": 32,
     "metadata": {},
     "output_type": "execute_result"
    }
   ],
   "source": [
    "len([[-82,-11,93],[-82,13,69],[-82,17,65],[-82,21,61],[-82,26,56],[-82,33,49],[-82,34,48],[-82,36,46],[-70,-14,84],[-70,-6,76],[-70,1,69],[-70,13,57],[-70,15,55],[-70,21,49],[-70,34,36],[-66,-11,77],[-66,-3,69],[-66,1,65],[-66,10,56],[-66,17,49],[-49,-6,55],[-49,-3,52],[-49,1,48],[-49,2,47],[-49,13,36],[-49,15,34],[-49,21,28],[-43,-14,57],[-43,-6,49],[-43,-3,46],[-43,10,33],[-43,12,31],[-43,15,28],[-43,17,26],[-29,-14,43],[-29,1,28],[-29,12,17],[-14,-3,17],[-14,1,13],[-14,2,12],[-11,-6,17],[-11,1,10],[-3,1,2]]\n",
    ")"
   ]
  },
  {
   "cell_type": "code",
   "execution_count": 31,
   "metadata": {},
   "outputs": [
    {
     "data": {
      "text/plain": [
       "46"
      ]
     },
     "execution_count": 31,
     "metadata": {},
     "output_type": "execute_result"
    }
   ],
   "source": [
    "len([[17,49,-66],[56,26,-82],[65,17,-82],[-3,-43,46],[-43,-14,57],[28,1,-29],[-3,-66,69],[12,17,-29],[46,36,-82],[57,13,-70],[13,36,-49],[26,17,-43],[-6,-70,76],[-11,-82,93],[15,28,-43],[28,15,-43],[2,1,-3],[-6,-11,17],[1,69,-70],[34,48,-82],[13,69,-82],[-3,-14,17],[21,28,-49],[2,12,-14],[2,47,-49],[-43,-6,49],[33,10,-43],[21,49,-70],[48,1,-49],[-3,-49,52],[34,36,-70],[34,15,-49],[-66,-11,77],[33,49,-82],[65,1,-66],[56,10,-66],[31,12,-43],[21,61,-82],[1,10,-11],[1,13,-14],[-14,-29,43],[15,55,-70],[-14,-70,84],[28,21,-49],[-6,-49,55],[55,15,-70]]\n",
    ")"
   ]
  },
  {
   "cell_type": "code",
   "execution_count": null,
   "metadata": {},
   "outputs": [],
   "source": []
  }
 ],
 "metadata": {
  "kernelspec": {
   "display_name": "Python 3",
   "language": "python",
   "name": "python3"
  },
  "language_info": {
   "codemirror_mode": {
    "name": "ipython",
    "version": 3
   },
   "file_extension": ".py",
   "mimetype": "text/x-python",
   "name": "python",
   "nbconvert_exporter": "python",
   "pygments_lexer": "ipython3",
   "version": "3.8.3"
  }
 },
 "nbformat": 4,
 "nbformat_minor": 4
}
