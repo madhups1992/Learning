{
 "cells": [
  {
   "cell_type": "markdown",
   "metadata": {},
   "source": [
    "Given a string s containing just the characters '(', ')', '{', '}', '[' and ']', determine if the input string is valid.\n",
    "\n",
    "An input string is valid if:\n",
    "\n",
    "1) Open brackets must be closed by the same type of brackets.\n",
    "\n",
    "2) Open brackets must be closed in the correct order."
   ]
  },
  {
   "cell_type": "code",
   "execution_count": 54,
   "metadata": {},
   "outputs": [],
   "source": [
    "def isValid(s):\n",
    "    stack=[]\n",
    "    brackets_dict = {'(':')','{':'}','[':']'}\n",
    "    for c in s:\n",
    "        if c in brackets_dict.keys():\n",
    "            stack.append()\n",
    "        elif len(stack)==0 or brackets_dict[stack.pop()]!=c:\n",
    "            return False\n",
    "    return len(stack)==0"
   ]
  },
  {
   "cell_type": "code",
   "execution_count": 50,
   "metadata": {},
   "outputs": [],
   "source": [
    "## This works but not efficient\n",
    "def isValid(s):\n",
    "    stack=[]\n",
    "    brackets_dict = {')':'(','}':'{',']':'['}\n",
    "    stack.append(s[0])\n",
    "    for c in s[1:]:\n",
    "        \n",
    "        if(c in brackets_dict.keys()):\n",
    "            print(stack[-1],brackets_dict[c])\n",
    "            if( stack[-1]==brackets_dict[c]):\n",
    "                stack.pop()\n",
    "            else:\n",
    "                stack.append(c)\n",
    "        else:\n",
    "            stack.append(c)\n",
    "    print(stack)\n",
    "    if(len(stack))==0:\n",
    "        \n",
    "        return(True)\n",
    "    else:\n",
    "        return(False)\n",
    "isValid(s='(){[}')"
   ]
  },
  {
   "cell_type": "code",
   "execution_count": null,
   "metadata": {},
   "outputs": [],
   "source": [
    "def isValid(s):\n",
    "    stack=[]\n",
    "    brackets_dict = {'(':')','{':'}','[':']'}\n",
    "    l=0\n",
    "    r = len(s)-1\n",
    "    while l<=r:\n",
    "        print(s[l],s[r])\n",
    "        if(brackets_dict[s[l]]!=s[r]):\n",
    "            \n",
    "            return(False)\n",
    "        else:\n",
    "            l+=1\n",
    "            r-=1\n",
    "    return(True)\n",
    "isValid(s='(){[}')\n",
    "## s = '()[]{}' wont work"
   ]
  },
  {
   "cell_type": "code",
   "execution_count": 53,
   "metadata": {},
   "outputs": [
    {
     "name": "stdout",
     "output_type": "stream",
     "text": [
      "( (\n",
      "[ {\n",
      "['{', '[', '}']\n"
     ]
    },
    {
     "data": {
      "text/plain": [
       "False"
      ]
     },
     "execution_count": 53,
     "metadata": {},
     "output_type": "execute_result"
    }
   ],
   "source": []
  },
  {
   "cell_type": "code",
   "execution_count": 14,
   "metadata": {},
   "outputs": [],
   "source": [
    "stack=[1,2,3,4,5]"
   ]
  },
  {
   "cell_type": "code",
   "execution_count": 15,
   "metadata": {},
   "outputs": [
    {
     "ename": "AttributeError",
     "evalue": "'list' object has no attribute 'top'",
     "output_type": "error",
     "traceback": [
      "\u001b[1;31m---------------------------------------------------------------------------\u001b[0m",
      "\u001b[1;31mAttributeError\u001b[0m                            Traceback (most recent call last)",
      "\u001b[1;32m<ipython-input-15-79cc5bb7c82a>\u001b[0m in \u001b[0;36m<module>\u001b[1;34m\u001b[0m\n\u001b[1;32m----> 1\u001b[1;33m \u001b[0mstack\u001b[0m\u001b[1;33m.\u001b[0m\u001b[0mtop\u001b[0m\u001b[1;33m(\u001b[0m\u001b[1;33m)\u001b[0m\u001b[1;33m\u001b[0m\u001b[1;33m\u001b[0m\u001b[0m\n\u001b[0m",
      "\u001b[1;31mAttributeError\u001b[0m: 'list' object has no attribute 'top'"
     ]
    }
   ],
   "source": [
    "stack."
   ]
  },
  {
   "cell_type": "code",
   "execution_count": null,
   "metadata": {},
   "outputs": [],
   "source": []
  }
 ],
 "metadata": {
  "kernelspec": {
   "display_name": "Python 3",
   "language": "python",
   "name": "python3"
  },
  "language_info": {
   "codemirror_mode": {
    "name": "ipython",
    "version": 3
   },
   "file_extension": ".py",
   "mimetype": "text/x-python",
   "name": "python",
   "nbconvert_exporter": "python",
   "pygments_lexer": "ipython3",
   "version": "3.8.3"
  }
 },
 "nbformat": 4,
 "nbformat_minor": 4
}
